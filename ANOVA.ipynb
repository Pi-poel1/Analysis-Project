{
 "cells": [
  {
   "cell_type": "markdown",
   "id": "dfdaa3e6-61d9-414a-a938-b64bfb57d763",
   "metadata": {},
   "source": [
    "### ANOVA"
   ]
  },
  {
   "cell_type": "markdown",
   "id": "0562a1a2-a51d-46be-8436-ef594329a5ad",
   "metadata": {},
   "source": [
    "### Problématique"
   ]
  },
  {
   "cell_type": "markdown",
   "id": "0a6ba017-2d96-4718-b6b6-dc9d4d11d0e8",
   "metadata": {},
   "source": [
    "\n",
    "Existe-t-il des différences significatives dans les niveaux de dépenses, c'est-à-dire les sommes d'argent allouées par les gouvernements, les entreprises ou les ménages pour divers besoins, entre les différents groupes de pays (émergents, développés et en développement) ?"
   ]
  },
  {
   "cell_type": "markdown",
   "id": "9c516e0a-e933-4226-aa1f-c5912d1fc867",
   "metadata": {},
   "source": [
    "#### Étape 1: Importation des bibliothèques nécessaires"
   ]
  },
  {
   "cell_type": "code",
   "execution_count": 223,
   "id": "2dc79a5a-8329-4e99-a617-d39ebfac8ca7",
   "metadata": {},
   "outputs": [],
   "source": [
    "import pandas as pd\n",
    "import statsmodels.api as sm\n",
    "from statsmodels.formula.api import ols\n",
    "import seaborn as sns\n",
    "import matplotlib.pyplot as plt\n"
   ]
  },
  {
   "cell_type": "markdown",
   "id": "8c11679b-de2b-4dc6-a08a-440295eb5737",
   "metadata": {},
   "source": [
    "#### Étape 2: Chargement de jeu de données"
   ]
  },
  {
   "cell_type": "code",
   "execution_count": 225,
   "id": "0ccc7807-f72d-470e-ad29-13161400a974",
   "metadata": {},
   "outputs": [],
   "source": [
    "\n",
    "data = pd.read_csv('dataset_fin.csv')\n",
    "df = pd.DataFrame(data)"
   ]
  },
  {
   "cell_type": "code",
   "execution_count": 226,
   "id": "9d6fced7-810e-42f2-917b-9dc5734354eb",
   "metadata": {},
   "outputs": [
    {
     "data": {
      "text/html": [
       "<div>\n",
       "<style scoped>\n",
       "    .dataframe tbody tr th:only-of-type {\n",
       "        vertical-align: middle;\n",
       "    }\n",
       "\n",
       "    .dataframe tbody tr th {\n",
       "        vertical-align: top;\n",
       "    }\n",
       "\n",
       "    .dataframe thead th {\n",
       "        text-align: right;\n",
       "    }\n",
       "</style>\n",
       "<table border=\"1\" class=\"dataframe\">\n",
       "  <thead>\n",
       "    <tr style=\"text-align: right;\">\n",
       "      <th></th>\n",
       "      <th>Unnamed: 0</th>\n",
       "      <th>Reference area</th>\n",
       "      <th>GDP</th>\n",
       "      <th>TIME_PERIOD</th>\n",
       "      <th>Income</th>\n",
       "      <th>Expenditure</th>\n",
       "      <th>Components of aggregate demand</th>\n",
       "      <th>Production</th>\n",
       "      <th>Households</th>\n",
       "      <th>Government</th>\n",
       "      <th>Government expenditure by fun</th>\n",
       "      <th>Corporations</th>\n",
       "      <th>Capital</th>\n",
       "      <th>Economic_Classification</th>\n",
       "    </tr>\n",
       "  </thead>\n",
       "  <tbody>\n",
       "    <tr>\n",
       "      <th>0</th>\n",
       "      <td>0</td>\n",
       "      <td>Australia</td>\n",
       "      <td>3.441992</td>\n",
       "      <td>2022</td>\n",
       "      <td>2.630387</td>\n",
       "      <td>6.318369</td>\n",
       "      <td>3.090439</td>\n",
       "      <td>3.665822</td>\n",
       "      <td>39871.843115</td>\n",
       "      <td>37.198877</td>\n",
       "      <td>37.198877</td>\n",
       "      <td>2.826235</td>\n",
       "      <td>102.959793</td>\n",
       "      <td>Emerging</td>\n",
       "    </tr>\n",
       "    <tr>\n",
       "      <th>1</th>\n",
       "      <td>1</td>\n",
       "      <td>Austria</td>\n",
       "      <td>5.277894</td>\n",
       "      <td>2022</td>\n",
       "      <td>0.676556</td>\n",
       "      <td>4.911191</td>\n",
       "      <td>2.438285</td>\n",
       "      <td>6.070283</td>\n",
       "      <td>40299.683652</td>\n",
       "      <td>53.010387</td>\n",
       "      <td>53.010387</td>\n",
       "      <td>3.702775</td>\n",
       "      <td>102.748410</td>\n",
       "      <td>Emerging</td>\n",
       "    </tr>\n",
       "    <tr>\n",
       "      <th>2</th>\n",
       "      <td>2</td>\n",
       "      <td>Belgium</td>\n",
       "      <td>4.233432</td>\n",
       "      <td>2022</td>\n",
       "      <td>0.945041</td>\n",
       "      <td>3.635884</td>\n",
       "      <td>1.815193</td>\n",
       "      <td>4.515443</td>\n",
       "      <td>36499.838230</td>\n",
       "      <td>52.240785</td>\n",
       "      <td>52.240785</td>\n",
       "      <td>5.092422</td>\n",
       "      <td>102.937581</td>\n",
       "      <td>Developing</td>\n",
       "    </tr>\n",
       "    <tr>\n",
       "      <th>3</th>\n",
       "      <td>3</td>\n",
       "      <td>Canada</td>\n",
       "      <td>4.189036</td>\n",
       "      <td>2022</td>\n",
       "      <td>5.478162</td>\n",
       "      <td>5.464745</td>\n",
       "      <td>2.960486</td>\n",
       "      <td>4.139944</td>\n",
       "      <td>34203.373443</td>\n",
       "      <td>41.238013</td>\n",
       "      <td>41.238013</td>\n",
       "      <td>6.555331</td>\n",
       "      <td>103.696381</td>\n",
       "      <td>Emerging</td>\n",
       "    </tr>\n",
       "    <tr>\n",
       "      <th>4</th>\n",
       "      <td>4</td>\n",
       "      <td>Chile</td>\n",
       "      <td>2.058740</td>\n",
       "      <td>2022</td>\n",
       "      <td>-1.181835</td>\n",
       "      <td>1.642339</td>\n",
       "      <td>1.019797</td>\n",
       "      <td>2.282649</td>\n",
       "      <td>16552.007381</td>\n",
       "      <td>27.749244</td>\n",
       "      <td>27.749244</td>\n",
       "      <td>4.490536</td>\n",
       "      <td>103.703984</td>\n",
       "      <td>Developing</td>\n",
       "    </tr>\n",
       "  </tbody>\n",
       "</table>\n",
       "</div>"
      ],
      "text/plain": [
       "   Unnamed: 0 Reference area       GDP  TIME_PERIOD    Income  Expenditure   \\\n",
       "0           0      Australia  3.441992         2022  2.630387      6.318369   \n",
       "1           1        Austria  5.277894         2022  0.676556      4.911191   \n",
       "2           2        Belgium  4.233432         2022  0.945041      3.635884   \n",
       "3           3         Canada  4.189036         2022  5.478162      5.464745   \n",
       "4           4          Chile  2.058740         2022 -1.181835      1.642339   \n",
       "\n",
       "   Components of aggregate demand  Production    Households  Government  \\\n",
       "0                        3.090439    3.665822  39871.843115   37.198877   \n",
       "1                        2.438285    6.070283  40299.683652   53.010387   \n",
       "2                        1.815193    4.515443  36499.838230   52.240785   \n",
       "3                        2.960486    4.139944  34203.373443   41.238013   \n",
       "4                        1.019797    2.282649  16552.007381   27.749244   \n",
       "\n",
       "   Government expenditure by fun  Corporations     Capital  \\\n",
       "0                      37.198877      2.826235  102.959793   \n",
       "1                      53.010387      3.702775  102.748410   \n",
       "2                      52.240785      5.092422  102.937581   \n",
       "3                      41.238013      6.555331  103.696381   \n",
       "4                      27.749244      4.490536  103.703984   \n",
       "\n",
       "  Economic_Classification  \n",
       "0                Emerging  \n",
       "1                Emerging  \n",
       "2              Developing  \n",
       "3                Emerging  \n",
       "4              Developing  "
      ]
     },
     "execution_count": 226,
     "metadata": {},
     "output_type": "execute_result"
    }
   ],
   "source": [
    "data.head()"
   ]
  },
  {
   "cell_type": "code",
   "execution_count": 230,
   "id": "76b4f876-1390-4262-ae7e-29c03fc559ba",
   "metadata": {},
   "outputs": [
    {
     "name": "stdout",
     "output_type": "stream",
     "text": [
      "['Unnamed: 0', 'Reference area', 'GDP', 'TIME_PERIOD', 'Income', 'Expenditure', 'Components of aggregate demand', 'Production', 'Households', 'Government', 'Government expenditure by fun', 'Corporations', 'Capital', 'Economic_Classification']\n"
     ]
    }
   ],
   "source": [
    "data.columns = data.columns.str.strip()  # Supprime les espaces\n",
    "print(data.columns.tolist())  # Affiche les noms de colonnes"
   ]
  },
  {
   "cell_type": "code",
   "execution_count": 232,
   "id": "e3ce9eb2-7108-448f-94d2-5eb25f5593ad",
   "metadata": {},
   "outputs": [
    {
     "name": "stdout",
     "output_type": "stream",
     "text": [
      "Index(['Unnamed: 0', 'Reference area', 'GDP', 'TIME_PERIOD', 'Income',\n",
      "       'Expenditure', 'Components of aggregate demand', 'Production',\n",
      "       'Households', 'Government', 'Government expenditure by fun',\n",
      "       'Corporations', 'Capital', 'Economic_Classification'],\n",
      "      dtype='object')\n"
     ]
    }
   ],
   "source": [
    "print(data.columns)  # Pour voir les noms de colonnes exacts"
   ]
  },
  {
   "cell_type": "code",
   "execution_count": 234,
   "id": "5230da70-a581-4a5a-aa9b-d1227bd56bb0",
   "metadata": {},
   "outputs": [],
   "source": [
    "# Renommer les colonnes pour enlever les espaces\n",
    "df.columns = df.columns.str.strip()"
   ]
  },
  {
   "cell_type": "markdown",
   "id": "a70a41ef-0db7-4c8c-a7c8-2d1e7c6a13f8",
   "metadata": {},
   "source": [
    "#### Étape 3: Formulation des Hypothèses"
   ]
  },
  {
   "cell_type": "markdown",
   "id": "dd5c2450-908a-43ea-aeb0-29f6eed7f56a",
   "metadata": {},
   "source": [
    "Avant de procéder à l'analyse exploratoire des données, nous formulons les hypothèses suivantes :"
   ]
  },
  {
   "cell_type": "markdown",
   "id": "2652c9e9-c4d9-4c46-b648-959ec466a720",
   "metadata": {},
   "source": [
    "- **Hypothèse Nulle (H0)** : Il n'y a pas de différence significative dans les dépenses  entre les différents groupes de classification économique (Emerging, Developing, Developed).\n",
    "- **Hypothèse Alternative (H1)** : Il existe au moins une différence significative dans les dépenses entre les groupes de classification économique."
   ]
  },
  {
   "cell_type": "markdown",
   "id": "5696d5d8-ef6b-42f7-96f2-b15961603d8e",
   "metadata": {},
   "source": [
    "#### Étape 4: Visualisation Préliminaire"
   ]
  },
  {
   "cell_type": "markdown",
   "id": "382a6bca-4f3d-4ba4-a96f-ccba2ecdc43b",
   "metadata": {},
   "source": [
    "Rôle du Boxplot Avant l'ANOVA\n",
    "\n",
    "Exploration Visuelle :\n",
    "Le boxplot permet d'explorer visuellement la distribution des données avant d'appliquer l'ANOVA. Cela aide à comprendre les tendances et les variations au sein de chaque groupe.\n",
    "\n",
    "Identification des Différences :\n",
    "Il met en évidence les différences potentielles entre les groupes, ce qui peut justifier l'application d'ANOVA pour tester l'hypothèse selon laquelle les moyennes des groupes sont égales."
   ]
  },
  {
   "cell_type": "code",
   "execution_count": 241,
   "id": "1ccddcc2-0c27-4b5a-8a80-5823c92cbf2d",
   "metadata": {},
   "outputs": [
    {
     "data": {
      "image/png": "[encoded data removed]",
      "text/plain": [
       "<Figure size 1000x600 with 1 Axes>"
      ]
     },
     "metadata": {},
     "output_type": "display_data"
    }
   ],
   "source": [
    "# Créer un boxplot pour visualiser les dépenses par classification économique\n",
    "plt.figure(figsize=(10, 6))\n",
    "sns.boxplot(x='Economic_Classification', y='Expenditure', data=df)\n",
    "plt.title('Les Dépenses par Classification Économique')\n",
    "plt.xlabel('Classification Économique')\n",
    "plt.ylabel('Les Dépenses')\n",
    "plt.grid(axis='y')\n",
    "plt.show()"
   ]
  },
  {
   "cell_type": "markdown",
   "id": "72179eb0-cb73-462e-b907-f578b47903fe",
   "metadata": {},
   "source": [
    "**Interprétation des résultats**"
   ]
  },
  {
   "cell_type": "markdown",
   "id": "96bb088c-f049-4356-b030-225a3ea414f0",
   "metadata": {},
   "source": [
    "Les boxplots montre clairement qu'il existe des différences notables dans les niveaux de dépenses  entre les trois classifications économiques."
   ]
  },
  {
   "cell_type": "markdown",
   "id": "7b78aa8b-a095-487f-a53c-24a9ad3f81e2",
   "metadata": {},
   "source": [
    "On observe que les dépenses dans les groupes se diffère:\n",
    "\n",
    "Developing (En développement) : La médiane des dépenses est légèrement inférieure à 5.\n",
    "\n",
    "Emerging (Émergents) : La médiane se situe autour de 5.\n",
    "\n",
    "Developed (Développés) : La médiane est d'environ 10."
   ]
  },
  {
   "cell_type": "markdown",
   "id": "b67423b0-da04-40f6-8e54-d81f1b022876",
   "metadata": {},
   "source": [
    "Valeurs Aberrantes :\n",
    "Les points au-dessus ou en dessous des \"whiskers\" (tassons) sont des valeurs aberrantes, signalant des dépenses qui sont significativement plus élevées ou plus faibles que le reste des données."
   ]
  },
  {
   "cell_type": "markdown",
   "id": "ac17ea65-6062-4081-b81c-b2195d096a89",
   "metadata": {},
   "source": [
    "Ces résultats soulignent l'influence des classifications économiques sur les dépenses gouvernementales.\n",
    "les pays développés dépensent en moyenne plus que les pays émergents , qui eux-mêmes dépensent plus que les pays en développement."
   ]
  },
  {
   "cell_type": "markdown",
   "id": "477f347b-2b10-4140-9056-9a4098f13611",
   "metadata": {},
   "source": [
    "#### Étape 4: ANOVA"
   ]
  },
  {
   "cell_type": "markdown",
   "id": "7325ccb4-0aa3-4e02-bb87-0be522b066f0",
   "metadata": {},
   "source": [
    "Les différences observées dans les dépenses entre les groupes justifient l'application de l'ANOVA pour tester statistiquement si ces différences sont significatives, renforçant la validité des analyses."
   ]
  },
  {
   "cell_type": "code",
   "execution_count": 250,
   "id": "57a6979c-96c1-4cda-ad33-628c927471e6",
   "metadata": {},
   "outputs": [],
   "source": [
    "\n",
    "model = ols('Expenditure ~ C(Economic_Classification)', data=df).fit()\n",
    "anova_table = sm.stats.anova_lm(model, typ=2)"
   ]
  },
  {
   "cell_type": "code",
   "execution_count": 251,
   "id": "6c7a399b-5f9f-40a7-bb9f-9fe9c68104f0",
   "metadata": {},
   "outputs": [
    {
     "name": "stdout",
     "output_type": "stream",
     "text": [
      "                                sum_sq    df         F    PR(>F)\n",
      "C(Economic_Classification)  177.284689   2.0  12.45836  0.000047\n",
      "Residual                    327.294098  46.0       NaN       NaN\n"
     ]
    }
   ],
   "source": [
    "\n",
    "# Afficher la table ANOVA\n",
    "print(anova_table)"
   ]
  },
  {
   "cell_type": "markdown",
   "id": "d77ae494-0a80-4a95-bd63-159ae5574cc0",
   "metadata": {},
   "source": [
    "**Interprétation des résultats**"
   ]
  },
  {
   "cell_type": "markdown",
   "id": "e9ef1ac7-a3b3-4703-ba59-88ce35bdfbb0",
   "metadata": {},
   "source": [
    "Statistique F :\n",
    "F : 12.45836\n",
    "La valeur F est le rapport de la variabilité entre les groupes à la variabilité au sein des groupes. Une valeur F élevée suggère que les différences entre les groupes sont plus grandes que la variabilité interne, ce qui est un indicateur fort de l'existence de différences significatives.\n",
    "\n",
    "Valeur p (PR(>F)) :\n",
    "PR(>F) : 0.000047\n",
    "La valeur p est très inférieure au seuil conventionnel de 0.05, ce qui permet de rejeter l'hypothèse nulle. Cela signifie qu'il existe des différences significatives dans les dépenses  selon la classification économique.\n"
   ]
  },
  {
   "cell_type": "markdown",
   "id": "f0fca25e-1452-4910-8c99-8b98896c3058",
   "metadata": {},
   "source": [
    "#### Résumé"
   ]
  },
  {
   "cell_type": "markdown",
   "id": "a7d9bb06-03f9-4c95-90cf-01de13d15319",
   "metadata": {},
   "source": [
    "Ces résultats  de l'ANOVA  permettent de répondre à la problématique en illustrant  qu'il existe des différences significatives dans les dépenses  selon la classification économique."
   ]
  }
 ],
 "metadata": {
  "kernelspec": {
   "display_name": "Python 3 (ipykernel)",
   "language": "python",
   "name": "python3"
  },
  "language_info": {
   "codemirror_mode": {
    "name": "ipython",
    "version": 3
   },
   "file_extension": ".py",
   "mimetype": "text/x-python",
   "name": "python",
   "nbconvert_exporter": "python",
   "pygments_lexer": "ipython3",
   "version": "3.12.4"
  }
 },
 "nbformat": 4,
 "nbformat_minor": 5
}
