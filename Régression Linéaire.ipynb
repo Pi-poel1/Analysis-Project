{
 "cells": [
  {
   "cell_type": "markdown",
   "id": "6e709e45",
   "metadata": {},
   "source": [
    " ## Régression linéaire simple"
   ]
  },
  {
   "cell_type": "markdown",
   "id": "740cd1a9-7779-4331-b1a8-3ab4755d224d",
   "metadata": {},
   "source": [
    "### Problématique\n"
   ]
  },
  {
   "cell_type": "markdown",
   "id": "24257c7a-2430-4443-8175-d69bfd333015",
   "metadata": {},
   "source": [
    "\n",
    "##### Quelle est la relation entre la production d'une économie et son Produit Intérieur Brut (BIP), et comment les variations de la production influencent-elles la santé économique d'un pays ?"
   ]
  },
  {
   "cell_type": "markdown",
   "id": "556d2583",
   "metadata": {},
   "source": [
    "#### Étape 1 : Préparation des Données"
   ]
  },
  {
   "cell_type": "markdown",
   "id": "74f25a03",
   "metadata": {},
   "source": [
    "Importez les bibliothèques nécessaires"
   ]
  },
  {
   "cell_type": "code",
   "execution_count": 16,
   "id": "1779fcc9",
   "metadata": {},
   "outputs": [],
   "source": [
    "import pandas as pd\n",
    "import numpy as np\n",
    "import statsmodels.api as sm\n",
    "import matplotlib.pyplot as plt\n",
    "import seaborn as sns\n",
    "from scipy import stats\n",
    "from statsmodels.stats.diagnostic import het_white"
   ]
  },
  {
   "cell_type": "markdown",
   "id": "d5901cdd-5380-45c8-9a23-b026219838bf",
   "metadata": {},
   "source": [
    "#### Étape 2 : Chargement de jeu de données "
   ]
  },
  {
   "cell_type": "code",
   "execution_count": 18,
   "id": "9e1a01af-d3bd-4234-a753-ebc25d5e132a",
   "metadata": {},
   "outputs": [],
   "source": [
    "data = pd.read_csv('dataset_fin.csv')"
   ]
  },
  {
   "cell_type": "code",
   "execution_count": 19,
   "id": "4731185d-0655-4409-b773-162543d53e87",
   "metadata": {},
   "outputs": [
    {
     "data": {
      "text/html": [
       "<div>\n",
       "<style scoped>\n",
       "    .dataframe tbody tr th:only-of-type {\n",
       "        vertical-align: middle;\n",
       "    }\n",
       "\n",
       "    .dataframe tbody tr th {\n",
       "        vertical-align: top;\n",
       "    }\n",
       "\n",
       "    .dataframe thead th {\n",
       "        text-align: right;\n",
       "    }\n",
       "</style>\n",
       "<table border=\"1\" class=\"dataframe\">\n",
       "  <thead>\n",
       "    <tr style=\"text-align: right;\">\n",
       "      <th></th>\n",
       "      <th>Unnamed: 0</th>\n",
       "      <th>Reference area</th>\n",
       "      <th>GDP</th>\n",
       "      <th>TIME_PERIOD</th>\n",
       "      <th>Income</th>\n",
       "      <th>Expenditure</th>\n",
       "      <th>Components of aggregate demand</th>\n",
       "      <th>Production</th>\n",
       "      <th>Households</th>\n",
       "      <th>Government</th>\n",
       "      <th>Government expenditure by fun</th>\n",
       "      <th>Corporations</th>\n",
       "      <th>Capital</th>\n",
       "      <th>Economic_Classification</th>\n",
       "    </tr>\n",
       "  </thead>\n",
       "  <tbody>\n",
       "    <tr>\n",
       "      <th>0</th>\n",
       "      <td>0</td>\n",
       "      <td>Australia</td>\n",
       "      <td>3.441992</td>\n",
       "      <td>2022</td>\n",
       "      <td>2.630387</td>\n",
       "      <td>6.318369</td>\n",
       "      <td>3.090439</td>\n",
       "      <td>3.665822</td>\n",
       "      <td>39871.843115</td>\n",
       "      <td>37.198877</td>\n",
       "      <td>37.198877</td>\n",
       "      <td>2.826235</td>\n",
       "      <td>102.959793</td>\n",
       "      <td>Emerging</td>\n",
       "    </tr>\n",
       "    <tr>\n",
       "      <th>1</th>\n",
       "      <td>1</td>\n",
       "      <td>Austria</td>\n",
       "      <td>5.277894</td>\n",
       "      <td>2022</td>\n",
       "      <td>0.676556</td>\n",
       "      <td>4.911191</td>\n",
       "      <td>2.438285</td>\n",
       "      <td>6.070283</td>\n",
       "      <td>40299.683652</td>\n",
       "      <td>53.010387</td>\n",
       "      <td>53.010387</td>\n",
       "      <td>3.702775</td>\n",
       "      <td>102.748410</td>\n",
       "      <td>Emerging</td>\n",
       "    </tr>\n",
       "    <tr>\n",
       "      <th>2</th>\n",
       "      <td>2</td>\n",
       "      <td>Belgium</td>\n",
       "      <td>4.233432</td>\n",
       "      <td>2022</td>\n",
       "      <td>0.945041</td>\n",
       "      <td>3.635884</td>\n",
       "      <td>1.815193</td>\n",
       "      <td>4.515443</td>\n",
       "      <td>36499.838230</td>\n",
       "      <td>52.240785</td>\n",
       "      <td>52.240785</td>\n",
       "      <td>5.092422</td>\n",
       "      <td>102.937581</td>\n",
       "      <td>Developing</td>\n",
       "    </tr>\n",
       "    <tr>\n",
       "      <th>3</th>\n",
       "      <td>3</td>\n",
       "      <td>Canada</td>\n",
       "      <td>4.189036</td>\n",
       "      <td>2022</td>\n",
       "      <td>5.478162</td>\n",
       "      <td>5.464745</td>\n",
       "      <td>2.960486</td>\n",
       "      <td>4.139944</td>\n",
       "      <td>34203.373443</td>\n",
       "      <td>41.238013</td>\n",
       "      <td>41.238013</td>\n",
       "      <td>6.555331</td>\n",
       "      <td>103.696381</td>\n",
       "      <td>Emerging</td>\n",
       "    </tr>\n",
       "    <tr>\n",
       "      <th>4</th>\n",
       "      <td>4</td>\n",
       "      <td>Chile</td>\n",
       "      <td>2.058740</td>\n",
       "      <td>2022</td>\n",
       "      <td>-1.181835</td>\n",
       "      <td>1.642339</td>\n",
       "      <td>1.019797</td>\n",
       "      <td>2.282649</td>\n",
       "      <td>16552.007381</td>\n",
       "      <td>27.749244</td>\n",
       "      <td>27.749244</td>\n",
       "      <td>4.490536</td>\n",
       "      <td>103.703984</td>\n",
       "      <td>Developing</td>\n",
       "    </tr>\n",
       "  </tbody>\n",
       "</table>\n",
       "</div>"
      ],
      "text/plain": [
       "   Unnamed: 0 Reference area       GDP  TIME_PERIOD    Income  Expenditure   \\\n",
       "0           0      Australia  3.441992         2022  2.630387      6.318369   \n",
       "1           1        Austria  5.277894         2022  0.676556      4.911191   \n",
       "2           2        Belgium  4.233432         2022  0.945041      3.635884   \n",
       "3           3         Canada  4.189036         2022  5.478162      5.464745   \n",
       "4           4          Chile  2.058740         2022 -1.181835      1.642339   \n",
       "\n",
       "   Components of aggregate demand  Production    Households  Government  \\\n",
       "0                        3.090439    3.665822  39871.843115   37.198877   \n",
       "1                        2.438285    6.070283  40299.683652   53.010387   \n",
       "2                        1.815193    4.515443  36499.838230   52.240785   \n",
       "3                        2.960486    4.139944  34203.373443   41.238013   \n",
       "4                        1.019797    2.282649  16552.007381   27.749244   \n",
       "\n",
       "   Government expenditure by fun  Corporations     Capital  \\\n",
       "0                      37.198877      2.826235  102.959793   \n",
       "1                      53.010387      3.702775  102.748410   \n",
       "2                      52.240785      5.092422  102.937581   \n",
       "3                      41.238013      6.555331  103.696381   \n",
       "4                      27.749244      4.490536  103.703984   \n",
       "\n",
       "  Economic_Classification  \n",
       "0                Emerging  \n",
       "1                Emerging  \n",
       "2              Developing  \n",
       "3                Emerging  \n",
       "4              Developing  "
      ]
     },
     "execution_count": 19,
     "metadata": {},
     "output_type": "execute_result"
    }
   ],
   "source": [
    "data.head()"
   ]
  },
  {
   "cell_type": "markdown",
   "id": "9c4c3b9c",
   "metadata": {},
   "source": [
    "#### Étape 3: Sélection des variables"
   ]
  },
  {
   "cell_type": "markdown",
   "id": "6335637c",
   "metadata": {},
   "source": [
    "1-Définir les variables 'Production' et 'GDP' comme variables indépendante (X) et dépendante (y)."
   ]
  },
  {
   "cell_type": "code",
   "execution_count": 22,
   "id": "0165de50",
   "metadata": {},
   "outputs": [],
   "source": [
    "# define le variable independant  x\n",
    "X = data['Production']\n",
    "# define le variable dependant  y\n",
    "y = data['GDP']\n",
    "# ajouter un colonne contient des '1' (y=ax+1*b)\n",
    "X = sm.add_constant(X)"
   ]
  },
  {
   "cell_type": "markdown",
   "id": "77949619",
   "metadata": {},
   "source": [
    "#### Étape 4 : Nuage de points"
   ]
  },
  {
   "cell_type": "markdown",
   "id": "76ad0d42",
   "metadata": {},
   "source": [
    "1-Un nuage de points est créé pour visualiser la relation entre la production et le Produit Intérieur Brut  (PIB)."
   ]
  },
  {
   "cell_type": "code",
   "execution_count": 25,
   "id": "52a0c5f8",
   "metadata": {},
   "outputs": [
    {
     "data": {
      "image/png": "[encoded data removed]",
      "text/plain": [
       "<Figure size 1000x600 with 1 Axes>"
      ]
     },
     "metadata": {},
     "output_type": "display_data"
    }
   ],
   "source": [
    "# Creer un scatter plot\n",
    "plt.figure(figsize=(10, 6))\n",
    "sns.scatterplot(x='Production', y='GDP', data=data)\n",
    "\n",
    "# Ajouter des titres et des labels\n",
    "plt.title('Nuage de points : PIB vs Production')\n",
    "plt.xlabel('Production')\n",
    "plt.ylabel('PIB')\n",
    "plt.grid(True)\n",
    "\n",
    "# Afficher le graphique\n",
    "plt.show()\n"
   ]
  },
  {
   "cell_type": "markdown",
   "id": "4d454553-2871-4883-aec7-c268b3b83f0f",
   "metadata": {},
   "source": [
    " **Intérprétation**\n",
    " \n",
    " le graphique révèle une corrélation positive entre la production et le PIB,indiquant qu'à mesure que la production augmente, le PIB tend également à augmenter."
   ]
  },
  {
   "cell_type": "markdown",
   "id": "1ff8a00d",
   "metadata": {},
   "source": [
    "#### Étape 4 : Ajustement du modèle de régression linéaire"
   ]
  },
  {
   "cell_type": "markdown",
   "id": "ac1aea2d",
   "metadata": {},
   "source": [
    "Un modèle de régression linéaire simple est ajusté en utilisant la méthode des moindres carrés ordinaires (OLS) de la bibliothèque statsmodels."
   ]
  },
  {
   "cell_type": "code",
   "execution_count": 29,
   "id": "663d7548",
   "metadata": {},
   "outputs": [],
   "source": [
    "# creation d'un modèle de régression linéaire simple\n",
    "model = sm.OLS(y, X).fit()"
   ]
  },
  {
   "cell_type": "markdown",
   "id": "18b65037",
   "metadata": {},
   "source": [
    "#### Étape 5 : Affichage du nuage de points avec la droite de régression"
   ]
  },
  {
   "cell_type": "markdown",
   "id": "1e4cf2c2",
   "metadata": {},
   "source": [
    "Le nuage de points est affiché avec une droite de régression (en rouge) qui représente la relation linéaire entre Advertisements et les Sales."
   ]
  },
  {
   "cell_type": "code",
   "execution_count": 1485,
   "id": "a648af17",
   "metadata": {},
   "outputs": [
    {
     "data": {
      "image/png": "[encoded data removed]",
      "text/plain": [
       "<Figure size 1000x600 with 1 Axes>"
      ]
     },
     "metadata": {},
     "output_type": "display_data"
    }
   ],
   "source": [
    "# Prédire les valeurs de y à partir du modèle\n",
    "y_pred = model.predict(X)\n",
    "\n",
    "# Créer le nuage de points avec la droite de régression\n",
    "plt.figure(figsize=(10, 6))\n",
    "sns.scatterplot(x='Production', y='GDP', data=data)\n",
    "plt.plot(data['Production'], y_pred, color='red', label='Droite de régression')\n",
    "\n",
    "# Ajouter des titres et des labels\n",
    "plt.title('Nuage de points avec la droite de régression')\n",
    "plt.xlabel('Production')\n",
    "plt.ylabel('PIB')\n",
    "plt.legend()\n",
    "plt.grid(True)\n",
    "\n",
    "# Afficher le graphique\n",
    "plt.show()\n",
    "\n"
   ]
  },
  {
   "cell_type": "markdown",
   "id": "44f4bf2f-32b3-443b-8162-b98e3ba3e47a",
   "metadata": {},
   "source": [
    "**Intérprétation**\n",
    "\n",
    " -L'ajout d'une droite de régression au nuage de points permet de visualiser la relation linéaire entre la production et le PIB en indiquant une tendance générale où une augmentation de la production est associée à une hausse du PIB.."
   ]
  },
  {
   "cell_type": "markdown",
   "id": "041ff755-6392-4368-8fba-c8c997e10ef4",
   "metadata": {},
   "source": [
    "-La droite de régression représente la meilleure approximation linéaire des données, en minimisant la distance entre les points et la droite.\n"
   ]
  },
  {
   "cell_type": "markdown",
   "id": "f35657cf-0cb7-47ec-98c6-fc97d2908277",
   "metadata": {},
   "source": [
    "#### Étape 6 : Histogramme des résidus avec courbe de distribution normale"
   ]
  },
  {
   "cell_type": "markdown",
   "id": "bcd0ea11-0d6c-4ac3-b6de-568b511e55f1",
   "metadata": {},
   "source": [
    "Un histogramme des résidus est affiché pour visualiser leur distribution. Il est superposé avec une courbe de distribution normale pour évaluer la normalité des résidus."
   ]
  },
  {
   "cell_type": "code",
   "execution_count": 1491,
   "id": "e334f4de-bea1-45e8-8b17-b791dfa38920",
   "metadata": {},
   "outputs": [
    {
     "data": {
      "image/png": "[encoded data removed]",
      "text/plain": [
       "<Figure size 1000x600 with 1 Axes>"
      ]
     },
     "metadata": {},
     "output_type": "display_data"
    }
   ],
   "source": [
    "# Calculer les résidus\n",
    "residus = model.resid\n",
    "\n",
    "# Créer l'histogramme des résidus\n",
    "plt.figure(figsize=(10, 6))\n",
    "sns.histplot(residus, kde=True, stat=\"density\", bins=30)\n",
    "\n",
    "# Ajouter une courbe de distribution normale\n",
    "mu, std = stats.norm.fit(residus)  # Fit de la normale\n",
    "xmin, xmax = plt.xlim()  # Limites x pour la courbe\n",
    "x = np.linspace(xmin, xmax, 100)\n",
    "p = stats.norm.pdf(x, mu, std)  # PDF de la normale\n",
    "plt.plot(x, p, 'r', linewidth=2, label='Courbe de distribution normale')\n",
    "\n",
    "# Ajouter des titres et des labels\n",
    "plt.title('Histogramme des résidus avec courbe de distribution normale')\n",
    "plt.xlabel('Résidus')\n",
    "plt.ylabel('Densité')\n",
    "plt.legend()\n",
    "plt.grid(True)\n",
    "\n",
    "# Afficher le graphique\n",
    "plt.show()"
   ]
  },
  {
   "cell_type": "markdown",
   "id": "ab539927-e052-4bff-a566-ee4b78a69a43",
   "metadata": {},
   "source": [
    "**Intérprétation** \n",
    "\n",
    "On remarque que:"
   ]
  },
  {
   "cell_type": "markdown",
   "id": "372c0e3b-1e99-422a-a819-af9b19641d28",
   "metadata": {},
   "source": [
    "Histogramme des résidus montre la répartition des résidus (erreurs) de la régression, indiquant leur fréquence sur l'axe vertical.\n",
    "\n",
    " La majorité des résidus se situent près de zéro, ce qui est souhaitable pour une bonne modélisation."
   ]
  },
  {
   "cell_type": "markdown",
   "id": "f46f6015-81c1-417d-a57b-26b01d922b25",
   "metadata": {},
   "source": [
    "En résumé le graphique indique que les résidus de la régression se distribuent de manière relativement normale.Autrement dit que les résidus suivent une distribution normale."
   ]
  },
  {
   "cell_type": "markdown",
   "id": "1638dce4",
   "metadata": {},
   "source": [
    "#### Étape 7 : Application des Tests "
   ]
  },
  {
   "cell_type": "markdown",
   "id": "6c8296af",
   "metadata": {},
   "source": [
    "Plusieurs tests sont effectués pour évaluer la qualité du modèle de régression :\n",
    "    "
   ]
  },
  {
   "cell_type": "markdown",
   "id": "3382a226-2377-42ad-b601-1913c5597858",
   "metadata": {},
   "source": [
    "  #####  1-Le test de Durbin-Watson "
   ]
  },
  {
   "cell_type": "markdown",
   "id": "c1468b2e-908c-46c4-98a2-4a92a3d51917",
   "metadata": {},
   "source": [
    "Objectif du test : Le test de Durbin-Watson est utilisé pour détecter l'autocorrélation des résidus d'une régression."
   ]
  },
  {
   "cell_type": "code",
   "execution_count": 1500,
   "id": "da147a10",
   "metadata": {},
   "outputs": [
    {
     "name": "stdout",
     "output_type": "stream",
     "text": [
      "Test de Durbin-Watson: 2.018619483378296\n"
     ]
    }
   ],
   "source": [
    "# Test de Durbin-Watson (INDÉPENDANCE DES ERREURS ) \n",
    "dw = sm.stats.durbin_watson(model.resid)\n",
    "print(f'Test de Durbin-Watson: {dw}')\n",
    "\n"
   ]
  },
  {
   "cell_type": "markdown",
   "id": "61b51eef-46a2-4f43-84a0-73c6a7d602f5",
   "metadata": {},
   "source": [
    "**Intérprétation**"
   ]
  },
  {
   "cell_type": "markdown",
   "id": "a61daf43-eded-40e3-b126-eb2f921e6080",
   "metadata": {},
   "source": [
    "La valeur de La statistique de Durbin-Watson  : 2.2016 indique que les résidus ne présentent pas d'autocorrélation significative,Cela signifie que les résidus sont indépendants les uns des autres."
   ]
  },
  {
   "cell_type": "markdown",
   "id": "b97acad6-65dd-41d3-8828-d645431a4750",
   "metadata": {},
   "source": [
    "En Résumé le modèle est capable de prédire comment les variations de production influencent la santé économique d'un pays sans être biaisé par des erreurs systématiques."
   ]
  },
  {
   "cell_type": "markdown",
   "id": "4e08f18f-b1f2-4ee7-89a9-82d72ad2c49d",
   "metadata": {},
   "source": [
    "##### 2-Le test de White \n",
    "   "
   ]
  },
  {
   "cell_type": "markdown",
   "id": "a295abb1-d5c1-4cd1-bb16-f2a49e8f5e16",
   "metadata": {},
   "source": [
    "Objectif : Le test de White vérifie l'homoscédasticité des résidus d'un modèle de régression."
   ]
  },
  {
   "cell_type": "code",
   "execution_count": 1506,
   "id": "146da67c",
   "metadata": {},
   "outputs": [
    {
     "name": "stdout",
     "output_type": "stream",
     "text": [
      "{'LM statistic': 0.8308739326922673, 'p-value': 0.6600517972586873, 'f-statistic': 0.39672923326902776, 'f p-value': 0.6747949128414077}\n"
     ]
    }
   ],
   "source": [
    "# Test de White pour (L’HOMOSCÉDASTICITÉ )\n",
    "white_test = het_white(model.resid, model.model.exog)\n",
    "labels = ['LM statistic', 'p-value', 'f-statistic', 'f p-value']\n",
    "print(dict(zip(labels, white_test)))\n",
    "\n"
   ]
  },
  {
   "cell_type": "markdown",
   "id": "5d420b79-af28-4e9d-a3da-237d1009bb5f",
   "metadata": {},
   "source": [
    "**Intérprétation**"
   ]
  },
  {
   "cell_type": "markdown",
   "id": "9ad84984-676b-40ea-80b4-4d5ee3888e95",
   "metadata": {},
   "source": [
    "\n",
    "-La p-value est bien supérieure à 0.05 ,Cela renforce l'idée qu'il n'y a pas d'hétéroscédasticité dans le modèle, indiquant aussi que la variance des résidus est constante à travers les observations.\n",
    "\n",
    "-L'absence d'hétéroscédasticité garantit que les erreurs de prévision ne varient pas en fonction des niveaux de production ou de BIP, ce qui renforce la robustesse des résultats du modèle.\n"
   ]
  },
  {
   "cell_type": "markdown",
   "id": "1f15edab",
   "metadata": {},
   "source": [
    "####  Étape 8: Résumé du modèle"
   ]
  },
  {
   "cell_type": "markdown",
   "id": "502e942b",
   "metadata": {},
   "source": [
    "Le résumé du modèle de régression linéaire est affiché, montrant les coefficients, les statistiques de test et d'autres informations liées au modèle."
   ]
  },
  {
   "cell_type": "code",
   "execution_count": 1512,
   "id": "ba5c4077",
   "metadata": {},
   "outputs": [
    {
     "name": "stdout",
     "output_type": "stream",
     "text": [
      "                            OLS Regression Results                            \n",
      "==============================================================================\n",
      "Dep. Variable:                    GDP   R-squared:                       0.933\n",
      "Model:                            OLS   Adj. R-squared:                  0.932\n",
      "Method:                 Least Squares   F-statistic:                     656.8\n",
      "Date:                Sun, 22 Dec 2024   Prob (F-statistic):           2.87e-29\n",
      "Time:                        13:29:53   Log-Likelihood:                -40.758\n",
      "No. Observations:                  49   AIC:                             85.52\n",
      "Df Residuals:                      47   BIC:                             89.30\n",
      "Df Model:                           1                                         \n",
      "Covariance Type:            nonrobust                                         \n",
      "==============================================================================\n",
      "                 coef    std err          t      P>|t|      [0.025      0.975]\n",
      "------------------------------------------------------------------------------\n",
      "const         -0.1117      0.168     -0.666      0.509      -0.449       0.226\n",
      "Production     0.9739      0.038     25.627      0.000       0.897       1.050\n",
      "==============================================================================\n",
      "Omnibus:                       23.962   Durbin-Watson:                   2.019\n",
      "Prob(Omnibus):                  0.000   Jarque-Bera (JB):               49.044\n",
      "Skew:                          -1.373   Prob(JB):                     2.24e-11\n",
      "Kurtosis:                       7.059   Cond. No.                         9.50\n",
      "==============================================================================\n",
      "\n",
      "Notes:\n",
      "[1] Standard Errors assume that the covariance matrix of the errors is correctly specified.\n"
     ]
    }
   ],
   "source": [
    "#code ici\n",
    "print(model.summary())\n"
   ]
  },
  {
   "cell_type": "markdown",
   "id": "481335cd-2e21-4164-aabb-234b090f1bd7",
   "metadata": {},
   "source": [
    "**Intérprétation**"
   ]
  },
  {
   "cell_type": "markdown",
   "id": "1c396459-8b33-4488-a403-aad52f29ad54",
   "metadata": {},
   "source": [
    "\n",
    "On remarque que l'équation de régression linéaire pour ce modèle est :\n",
    "##### GDP = -0.1117  +  0.9739 *Production\n",
    "\n",
    "##### a = -0.1117 \n",
    "-Cela signifie que lorsque la production est nulle, le GDP est estimé à -0.1117, mais cette estimation n'est pas significative. \n",
    "\n",
    "##### b =  0.9739 \n",
    "-Cela indique que pour chaque unité d'augmentation de la production, le GDP augmente en moyenne de 0.9739 unités"
   ]
  },
  {
   "cell_type": "markdown",
   "id": "ef35c5b9-fe35-4271-9a0a-b552bf0132e3",
   "metadata": {},
   "source": [
    "**R-squared**: 0.9775\n",
    "Cela indique que 97,75 % de la variance de la variable dépendante (GDP) est expliquée par le modèle. C'est un bon ajustement."
   ]
  },
  {
   "cell_type": "markdown",
   "id": "05eb7a7e-20a6-4605-9b91-e22641e17057",
   "metadata": {},
   "source": [
    "**Statistique F : 656.8**\n",
    "Une statistique F élevée indique que le modèle dans son ensemble est significatif. Cela signifie que les variables explicatives (ici, la production) ont un impact significatif sur le PIB.\n"
   ]
  },
  {
   "cell_type": "markdown",
   "id": "a13cbe36",
   "metadata": {},
   "source": [
    "####  Étape 9 : Calcul de l'Erreur quadratique moyenne (MSE)."
   ]
  },
  {
   "cell_type": "markdown",
   "id": "a877f23d-485d-4db8-b251-29cd6d872a27",
   "metadata": {},
   "source": [
    "Objectif:Le MSE mesure la moyenne des carrés des erreurs entre les valeurs prédites par le modèle et les valeurs réelles. En d'autres termes, il quantifie la qualité des prédictions du modèle."
   ]
  },
  {
   "cell_type": "code",
   "execution_count": 1520,
   "id": "f80132c9",
   "metadata": {},
   "outputs": [
    {
     "name": "stdout",
     "output_type": "stream",
     "text": [
      "Erreur Quadratique Moyenne (MSE): 0.3090426201614559\n"
     ]
    }
   ],
   "source": [
    "from sklearn.metrics import mean_squared_error\n",
    "\n",
    "# Prédire les valeurs de y à partir du modèle\n",
    "y_pred = model.predict(X)\n",
    "\n",
    "# Calculer l'Erreur quadratique moyenne (MSE)\n",
    "mse = mean_squared_error(y, y_pred)\n",
    "print(f'Erreur Quadratique Moyenne (MSE): {mse}')\n"
   ]
  },
  {
   "cell_type": "markdown",
   "id": "d3190423-571f-4aad-8bf8-8394960edde0",
   "metadata": {},
   "source": [
    "**Intérprétation**"
   ]
  },
  {
   "cell_type": "markdown",
   "id": "9df22b37-c6ec-4773-bc05-7eb4873f6c32",
   "metadata": {},
   "source": [
    "\n",
    "Dans le contexte de la relation entre la production et le PIB, une MSE de 0.3094 signifie que les prédictions du modèle sont relativement proches des valeurs réelles."
   ]
  },
  {
   "cell_type": "markdown",
   "id": "091aa856",
   "metadata": {},
   "source": [
    "\n",
    "#### Étape 10 : Coefficient de détermination (R²)."
   ]
  },
  {
   "cell_type": "markdown",
   "id": "fea2de14-b06c-4e37-a04b-72e0ebda0669",
   "metadata": {},
   "source": [
    "Objectif:Le R² mesure la proportion de la variance de la variable dépendante qui est expliquée par le modèle"
   ]
  },
  {
   "cell_type": "code",
   "execution_count": 1526,
   "id": "93153030",
   "metadata": {},
   "outputs": [
    {
     "name": "stdout",
     "output_type": "stream",
     "text": [
      "Coefficient de détermination (R²): 0.9332165736517442\n"
     ]
    }
   ],
   "source": [
    "# Coefficient de détermination (R²)\n",
    "r_squared = model.rsquared\n",
    "print(f'Coefficient de détermination (R²): {r_squared}')\n"
   ]
  },
  {
   "cell_type": "markdown",
   "id": "ac78d8c6-a9cb-4ca0-aaa4-9bcedf6b6bd2",
   "metadata": {},
   "source": [
    "**Intérprétation**"
   ]
  },
  {
   "cell_type": "markdown",
   "id": "af3d7635-f127-4433-a480-40c7087d6f42",
   "metadata": {},
   "source": [
    "Un R² proche de 1 signifie que le modèle s'ajuste très bien aux données. \n",
    "\n",
    "-Dans ce cas 0.9332 indique que 93.32% de la variance du PIB est expliquée par la production.Suggèrant aussi que le modèle est capable de prédire la variable dépendante (PIB) en fonction de la production avec une grande précision."
   ]
  },
  {
   "cell_type": "markdown",
   "id": "f9bfa0c3-972c-4834-bfc7-6df76bd0d419",
   "metadata": {},
   "source": [
    "#### Conclusion"
   ]
  },
  {
   "cell_type": "markdown",
   "id": "88815489-8624-497b-a28b-f4b284673294",
   "metadata": {},
   "source": [
    "\n",
    "En résumé,à travers la regression linéaire on a montrer bien l'exsistance d'une relation directe et positive entre la production et le PIB. Une production plus élevée conduit à un PIB plus élevé."
   ]
  },
  {
   "cell_type": "code",
   "execution_count": null,
   "id": "87823077-0cb4-4f56-8a75-3856fb2ee375",
   "metadata": {},
   "outputs": [],
   "source": []
  }
 ],
 "metadata": {
  "kernelspec": {
   "display_name": "Python 3 (ipykernel)",
   "language": "python",
   "name": "python3"
  },
  "language_info": {
   "codemirror_mode": {
    "name": "ipython",
    "version": 3
   },
   "file_extension": ".py",
   "mimetype": "text/x-python",
   "name": "python",
   "nbconvert_exporter": "python",
   "pygments_lexer": "ipython3",
   "version": "3.12.4"
  }
 },
 "nbformat": 4,
 "nbformat_minor": 5
}
