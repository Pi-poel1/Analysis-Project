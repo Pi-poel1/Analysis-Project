{
 "cells": [
  {
   "cell_type": "markdown",
   "metadata": {},
   "source": [
    "### *Poblématique :*\n",
    "Quels indicateurs économiques ( Income, Expenditure, etc.) permettent de mieux discriminer les classifications économiques (Emerging, Developing) des pays ?"
   ]
  },
  {
   "cell_type": "markdown",
   "metadata": {},
   "source": [
    "### 1. Importation des bibliothèques"
   ]
  },
  {
   "cell_type": "code",
   "execution_count": 2,
   "metadata": {},
   "outputs": [],
   "source": [
    "from sklearn import datasets\n",
    "import pandas as pd\n",
    "import numpy as np\n",
    "np.set_printoptions(precision=4)\n",
    "from matplotlib import pyplot as plt\n",
    "import seaborn as sns\n",
    "sns.set()\n",
    "from sklearn.preprocessing import LabelEncoder"
   ]
  },
  {
   "cell_type": "markdown",
   "metadata": {},
   "source": [
    "### 2. Chargement et Préparation des Données"
   ]
  },
  {
   "cell_type": "code",
   "execution_count": 3,
   "metadata": {},
   "outputs": [],
   "source": [
    "dataset = pd.read_csv('dataset_fin.csv')"
   ]
  },
  {
   "cell_type": "code",
   "execution_count": 4,
   "metadata": {},
   "outputs": [],
   "source": [
    "from sklearn.preprocessing import StandardScaler\n",
    "\n",
    "# Identification des variables explicatives et cible\n",
    "X = dataset[[ 'Income', 'Expenditure ','Components of aggregate demand', \n",
    "             'Production', 'Households', 'Government',\n",
    "             'Corporations', 'Capital']]\n",
    "y = dataset['Economic_Classification']\n"
   ]
  },
  {
   "cell_type": "code",
   "execution_count": 5,
   "metadata": {},
   "outputs": [
    {
     "data": {
      "text/html": [
       "<div>\n",
       "<style scoped>\n",
       "    .dataframe tbody tr th:only-of-type {\n",
       "        vertical-align: middle;\n",
       "    }\n",
       "\n",
       "    .dataframe tbody tr th {\n",
       "        vertical-align: top;\n",
       "    }\n",
       "\n",
       "    .dataframe thead th {\n",
       "        text-align: right;\n",
       "    }\n",
       "</style>\n",
       "<table border=\"1\" class=\"dataframe\">\n",
       "  <thead>\n",
       "    <tr style=\"text-align: right;\">\n",
       "      <th></th>\n",
       "      <th>Income</th>\n",
       "      <th>Expenditure</th>\n",
       "      <th>Components of aggregate demand</th>\n",
       "      <th>Production</th>\n",
       "      <th>Households</th>\n",
       "      <th>Government</th>\n",
       "      <th>Corporations</th>\n",
       "      <th>Capital</th>\n",
       "    </tr>\n",
       "  </thead>\n",
       "  <tbody>\n",
       "    <tr>\n",
       "      <th>0</th>\n",
       "      <td>2.630387</td>\n",
       "      <td>6.318369</td>\n",
       "      <td>3.090439</td>\n",
       "      <td>3.665822</td>\n",
       "      <td>39871.843115</td>\n",
       "      <td>37.198877</td>\n",
       "      <td>2.826235</td>\n",
       "      <td>102.959793</td>\n",
       "    </tr>\n",
       "    <tr>\n",
       "      <th>1</th>\n",
       "      <td>0.676556</td>\n",
       "      <td>4.911191</td>\n",
       "      <td>2.438285</td>\n",
       "      <td>6.070283</td>\n",
       "      <td>40299.683652</td>\n",
       "      <td>53.010387</td>\n",
       "      <td>3.702775</td>\n",
       "      <td>102.748410</td>\n",
       "    </tr>\n",
       "    <tr>\n",
       "      <th>2</th>\n",
       "      <td>0.945041</td>\n",
       "      <td>3.635884</td>\n",
       "      <td>1.815193</td>\n",
       "      <td>4.515443</td>\n",
       "      <td>36499.838230</td>\n",
       "      <td>52.240785</td>\n",
       "      <td>5.092422</td>\n",
       "      <td>102.937581</td>\n",
       "    </tr>\n",
       "    <tr>\n",
       "      <th>3</th>\n",
       "      <td>5.478162</td>\n",
       "      <td>5.464745</td>\n",
       "      <td>2.960486</td>\n",
       "      <td>4.139944</td>\n",
       "      <td>34203.373443</td>\n",
       "      <td>41.238013</td>\n",
       "      <td>6.555331</td>\n",
       "      <td>103.696381</td>\n",
       "    </tr>\n",
       "    <tr>\n",
       "      <th>4</th>\n",
       "      <td>-1.181835</td>\n",
       "      <td>1.642339</td>\n",
       "      <td>1.019797</td>\n",
       "      <td>2.282649</td>\n",
       "      <td>16552.007381</td>\n",
       "      <td>27.749244</td>\n",
       "      <td>4.490536</td>\n",
       "      <td>103.703984</td>\n",
       "    </tr>\n",
       "  </tbody>\n",
       "</table>\n",
       "</div>"
      ],
      "text/plain": [
       "     Income  Expenditure   Components of aggregate demand  Production  \\\n",
       "0  2.630387      6.318369                        3.090439    3.665822   \n",
       "1  0.676556      4.911191                        2.438285    6.070283   \n",
       "2  0.945041      3.635884                        1.815193    4.515443   \n",
       "3  5.478162      5.464745                        2.960486    4.139944   \n",
       "4 -1.181835      1.642339                        1.019797    2.282649   \n",
       "\n",
       "     Households  Government  Corporations     Capital  \n",
       "0  39871.843115   37.198877      2.826235  102.959793  \n",
       "1  40299.683652   53.010387      3.702775  102.748410  \n",
       "2  36499.838230   52.240785      5.092422  102.937581  \n",
       "3  34203.373443   41.238013      6.555331  103.696381  \n",
       "4  16552.007381   27.749244      4.490536  103.703984  "
      ]
     },
     "execution_count": 5,
     "metadata": {},
     "output_type": "execute_result"
    }
   ],
   "source": [
    "X.head()"
   ]
  },
  {
   "cell_type": "code",
   "execution_count": 6,
   "metadata": {},
   "outputs": [],
   "source": [
    "df = X.join(pd.Series(y, name='class'))"
   ]
  },
  {
   "cell_type": "markdown",
   "metadata": {},
   "source": [
    "#### a.Calcul des moyennes des variables par classe"
   ]
  },
  {
   "cell_type": "code",
   "execution_count": 7,
   "metadata": {},
   "outputs": [],
   "source": [
    "# Calcul des moyennes des features pour chaque classe\n",
    "class_feature_means = pd.DataFrame(columns=y.unique())\n",
    "\n",
    "# Sélectionner uniquement les colonnes numériques de X\n",
    "numeric_cols = X.select_dtypes(include=['float64', 'int64']).columns\n",
    "\n",
    "# Grouper par classe (Economic_Classification) et calculer les moyennes\n",
    "for c, rows in X.assign(target=y).groupby('target'):\n",
    "    class_feature_means[c] = rows[numeric_cols].mean()\n"
   ]
  },
  {
   "cell_type": "markdown",
   "metadata": {},
   "source": [
    "#### b.Calcul de la matrice de dispersion intra-classe"
   ]
  },
  {
   "cell_type": "code",
   "execution_count": 8,
   "metadata": {},
   "outputs": [],
   "source": [
    "# Initialiser la matrice de dispersion intra-classes\n",
    "num_features = X.shape[1]  # Nombre de variables explicatives\n",
    "within_class_scatter_matrix = np.zeros((num_features, num_features))\n",
    "\n",
    "# Calcul de la matrice de dispersion intra-classes\n",
    "for c, rows in X.assign(target=y).groupby('target'):\n",
    "    rows = rows.drop(['target'], axis=1)  # Retirer la colonne cible\n",
    "    \n",
    "    s = np.zeros((num_features, num_features))\n",
    "    for index, row in rows.iterrows():\n",
    "        x = row.values.reshape(num_features, 1)  # Transformer la ligne en vecteur colonne\n",
    "        mc = class_feature_means[c].values.reshape(num_features, 1)  # Moyenne de la classe\n",
    "        \n",
    "        s += (x - mc).dot((x - mc).T)  # Calculer la contribution de la ligne\n",
    "    \n",
    "    within_class_scatter_matrix += s  # Ajouter la contribution de la classe\n"
   ]
  },
  {
   "cell_type": "markdown",
   "metadata": {},
   "source": [
    "#### c. Calcul de la matrice de dispersion inter-classe"
   ]
  },
  {
   "cell_type": "code",
   "execution_count": 9,
   "metadata": {},
   "outputs": [
    {
     "data": {
      "text/plain": [
       "array([[ 3.1878e+02,  2.0515e+02,  1.0343e+02,  1.7917e+02,  2.2265e+05,\n",
       "        -1.6592e+02, -4.0145e+01,  1.5394e+02],\n",
       "       [ 2.0515e+02,  1.7728e+02,  8.6800e+01,  1.5156e+02,  1.2781e+05,\n",
       "        -1.5448e+02, -3.0451e+01,  1.3638e+02],\n",
       "       [ 1.0343e+02,  8.6800e+01,  4.2607e+01,  7.4343e+01,  6.5321e+04,\n",
       "        -7.5163e+01, -1.5089e+01,  6.6632e+01],\n",
       "       [ 1.7917e+02,  1.5156e+02,  7.4343e+01,  1.2974e+02,  1.1274e+05,\n",
       "        -1.3147e+02, -2.6261e+01,  1.1641e+02],\n",
       "       [ 2.2265e+05,  1.2781e+05,  6.5321e+04,  1.1274e+05,  1.6080e+08,\n",
       "        -9.9572e+04, -2.6460e+04,  9.4752e+04],\n",
       "       [-1.6592e+02, -1.5448e+02, -7.5163e+01, -1.3147e+02, -9.9572e+04,\n",
       "         1.3664e+02,  2.5760e+01, -1.1945e+02],\n",
       "       [-4.0145e+01, -3.0451e+01, -1.5089e+01, -2.6261e+01, -2.6460e+04,\n",
       "         2.5760e+01,  5.5263e+00, -2.3192e+01],\n",
       "       [ 1.5394e+02,  1.3638e+02,  6.6632e+01,  1.1641e+02,  9.4752e+04,\n",
       "        -1.1945e+02, -2.3192e+01,  1.0511e+02]])"
      ]
     },
     "execution_count": 9,
     "metadata": {},
     "output_type": "execute_result"
    }
   ],
   "source": [
    "# Calcul des moyennes globales pour chaque feature\n",
    "feature_means = X.mean()\n",
    "\n",
    "# Initialiser la matrice de dispersion inter-classes\n",
    "num_features = X.shape[1]  # Nombre de variables explicatives\n",
    "between_class_scatter_matrix = np.zeros((num_features, num_features))\n",
    "\n",
    "# Calculer la matrice de dispersion inter-classes\n",
    "for c in class_feature_means.columns:  # Pour chaque classe\n",
    "    # Taille de la classe\n",
    "    n = len(y[y == c])\n",
    "    \n",
    "    # Moyenne de la classe et moyenne globale (reshaped en vecteurs colonnes)\n",
    "    mc = class_feature_means[c].values.reshape(num_features, 1)  # Moyenne pour la classe c\n",
    "    m = feature_means.values.reshape(num_features, 1)           # Moyenne globale\n",
    "    \n",
    "    # Mise à jour de la matrice de dispersion inter-classes\n",
    "    between_class_scatter_matrix += n * (mc - m).dot((mc - m).T)\n",
    "\n",
    "between_class_scatter_matrix\n"
   ]
  },
  {
   "cell_type": "markdown",
   "metadata": {},
   "source": [
    "**Interprétation :**\n",
    "* Les grandes valeurs sur la diagonale (par ex., 2.2265×10^5)     indiquent une forte variabilité pour la variable correspondante.\n",
    "* Les petites valeurs ou valeurs proches de 0 indiquent une faible variabilité ou indépendance (dans le cas des covariances).\n",
    "* Les valeurs négatives dans les éléments hors diagonale montrent une relation inverse entre les variables.\n"
   ]
  },
  {
   "cell_type": "markdown",
   "metadata": {},
   "source": [
    "#### d. Calcul des valeurs propres et vecteurs propres"
   ]
  },
  {
   "cell_type": "code",
   "execution_count": 10,
   "metadata": {},
   "outputs": [],
   "source": [
    "eigen_values, eigen_vectors = np.linalg.eig(\n",
    "    np.linalg.inv(within_class_scatter_matrix).dot(between_class_scatter_matrix)\n",
    ")\n"
   ]
  },
  {
   "cell_type": "code",
   "execution_count": 11,
   "metadata": {},
   "outputs": [
    {
     "name": "stdout",
     "output_type": "stream",
     "text": [
      "Valeur propre 1: 2.7839893875065687\n",
      "Valeur propre 2: 0.11446352621793772\n",
      "Valeur propre 3: 1.3682705261693708e-16\n",
      "Valeur propre 4: 1.1646356905690034e-16\n",
      "Valeur propre 5: 1.0428140702340248e-16\n",
      "Valeur propre 6: 6.376181348545577e-17\n",
      "Valeur propre 7: 6.376181348545577e-17\n",
      "Valeur propre 8: 1.2387553810603815e-17\n"
     ]
    }
   ],
   "source": [
    "# Création des paires (valeur propre absolue, vecteur propre correspondant)\n",
    "pairs = [(np.abs(eigen_values[i]), eigen_vectors[:, i]) for i in range(len(eigen_values))]\n",
    "\n",
    "# Tri des paires par valeur propre absolue (ordre décroissant)\n",
    "pairs = sorted(pairs, key=lambda x: x[0], reverse=True)\n",
    "\n",
    "# Affichage des valeurs propres triées\n",
    "for i, pair in enumerate(pairs):\n",
    "    print(f\"Valeur propre {i + 1}: {pair[0]}\")\n"
   ]
  },
  {
   "cell_type": "markdown",
   "metadata": {},
   "source": [
    "**Interprétation des valeurs propres :**\n",
    "* Valeur propre 1 : \n",
    "  * 𝜆1=2.784 :\n",
    "     Cette valeur est la plus élevée, ce qui indique que le premier axe discriminant (LD1) est celui qui explique le mieux la séparation entre les classes.\n",
    "     Il capture la majorité de la variance inter-classes.\n",
    "* Valeur propre 2 : \n",
    "  * 𝜆2=0.114 :\n",
    "     Cette valeur est significativement plus petite que 𝜆1 , mais elle montre que le second axe discriminant (LD2) apporte encore une contribution mesurable à la discrimination des classes.\n",
    "     La différence entre 𝜆1 et 𝜆2 souligne que l’essentiel de la séparation est contenu dans LD1.\n",
    "* Valeurs proches de zéro (𝜆3 à 𝜆8) :\n",
    "  Ces valeurs (par exemple, 1.37×10^−16 ) sont très faibles, indiquant que les axes associés (LD3 à LD8) n’apportent pratiquement aucune information utile à la discrimination.\n",
    "  Ces axes peuvent être ignorés dans l’interprétation, car ils sont numériquement insignifiants."
   ]
  },
  {
   "cell_type": "markdown",
   "metadata": {},
   "source": [
    "#### e. Calcul de la variance expliquée"
   ]
  },
  {
   "cell_type": "code",
   "execution_count": 12,
   "metadata": {},
   "outputs": [
    {
     "name": "stdout",
     "output_type": "stream",
     "text": [
      "Explained Variance\n",
      "Eigenvector 0: 96.05%\n",
      "Eigenvector 1: 3.95%\n",
      "Eigenvector 2: 0.00%\n",
      "Eigenvector 3: 0.00%\n",
      "Eigenvector 4: 0.00%\n",
      "Eigenvector 5: 0.00%\n",
      "Eigenvector 6: 0.00%\n",
      "Eigenvector 7: 0.00%\n"
     ]
    }
   ],
   "source": [
    "eigen_value_sums = sum(eigen_values)\n",
    "print('Explained Variance')\n",
    "for i, pair in enumerate(pairs):\n",
    "    print('Eigenvector {}: {:.2%}'.format(i, (pair[0] / eigen_value_sums).real))\n"
   ]
  },
  {
   "cell_type": "markdown",
   "metadata": {},
   "source": [
    "**Interprétation :**\n",
    "* Réduction de la dimensionnalité : \n",
    "   Les deux premiers axes (LD1 et LD2) suffisent pour capturer 100% de la variance inter-classes.\n",
    "   Vous pouvez réduire l’espace discriminant à 2 dimensions (projection sur LD1 et LD2) sans perte significative d’information.\n",
    "* Importance de LD1 :\n",
    "  Avec 96.05% de variance expliquée, LD1 est l’axe principal. Il est responsable de la quasi-totalité de la séparation entre les classes.\n",
    "* Rôle de LD2 :\n",
    "  LD2 joue un rôle mineur mais non négligeable. Il peut révéler des distinctions subtiles entre des classes qui ne seraient pas visibles sur \n",
    "  LD1seul.\n",
    "* Inutilité des autres axes (LD3 à LD8) :\n",
    "  Ces axes n’apportent pas d’information supplémentaire utile à la discrimination des classes.\n",
    "  Ils peuvent être ignorés dans l’interprétation ou visualisation des résultats."
   ]
  },
  {
   "cell_type": "code",
   "execution_count": 13,
   "metadata": {},
   "outputs": [
    {
     "name": "stdout",
     "output_type": "stream",
     "text": [
      "Matrice W :\n",
      "[[ 1.5486e-01 -1.9108e-01]\n",
      " [-2.3907e-01  5.6070e-01]\n",
      " [ 6.1870e-01 -7.6031e-01]\n",
      " [ 6.9145e-01 -9.4492e-03]\n",
      " [ 1.4510e-06 -7.8183e-05]\n",
      " [-4.3215e-02  9.6832e-03]\n",
      " [ 6.3104e-02  1.6606e-01]\n",
      " [ 2.2830e-01  2.0804e-01]]\n"
     ]
    }
   ],
   "source": [
    "# Créer la matrice W en empilant les deux premiers vecteurs propres (dimension 8x1)\n",
    "w_matrix = np.hstack((pairs[0][1].reshape(8, 1), pairs[1][1].reshape(8, 1))).real\n",
    "\n",
    "# Afficher la matrice W (composantes discriminantes)\n",
    "print(\"Matrice W :\")\n",
    "print(w_matrix)\n"
   ]
  },
  {
   "cell_type": "markdown",
   "metadata": {},
   "source": [
    "**Interprétation :**\n",
    "* Colonne 1 (LD1) :\n",
    "\n",
    "  Les coefficients de la première colonne montrent l’importance relative des variables explicatives dans la construction du premier axe discriminant (LD1), qui explique 96.05% de la variance inter-classes.\n",
    "\n",
    "  * Variables ayant une contribution importante :\n",
    "    * Variable 3 (0.6187)\n",
    "    * Variable 4 (0.69145)\n",
    "    * Ces deux variables jouent un rôle majeur dans la discrimination des classes sur LD1.\n",
    "\n",
    "* Colonne 2 (LD2) :\n",
    "\n",
    "  Les coefficients de la deuxième colonne montrent l’importance relative des variables explicatives dans la construction du second axe discriminant (LD2), qui explique 3.95% de la variance inter-classes.\n",
    "  \n",
    "  * Variables ayant une contribution importante :\n",
    "    * Variable 3 (−0.76031)\n",
    "    * Variable 2(0.5607)\n",
    "    * Variable 8 (0.20804)\n",
    "    Ces variables apportent des informations subtiles supplémentaires pour différencier les classes.\n"
   ]
  },
  {
   "cell_type": "markdown",
   "metadata": {},
   "source": [
    "### Projection des données sur les axes discriminants"
   ]
  },
  {
   "cell_type": "code",
   "execution_count": 14,
   "metadata": {},
   "outputs": [],
   "source": [
    "#Nouvelles...\n",
    "X_lda = np.array(X.dot(w_matrix))"
   ]
  },
  {
   "cell_type": "code",
   "execution_count": 15,
   "metadata": {},
   "outputs": [],
   "source": [
    "#Codage...\n",
    "le = LabelEncoder()\n",
    "y = le.fit_transform(df['class'])"
   ]
  },
  {
   "cell_type": "code",
   "execution_count": 16,
   "metadata": {},
   "outputs": [
    {
     "data": {
      "image/png": "[encoded data removed]",
      "text/plain": [
       "<Figure size 640x480 with 1 Axes>"
      ]
     },
     "metadata": {},
     "output_type": "display_data"
    }
   ],
   "source": [
    "plt.xlabel('LD1')\n",
    "plt.ylabel('LD2')\n",
    "plt.scatter(\n",
    "    X_lda[:,0],\n",
    "    X_lda[:,1],\n",
    "    c=y,\n",
    "    cmap='rainbow',\n",
    "    alpha=0.7,\n",
    "    edgecolors='b'\n",
    ")\n",
    "plt.show()"
   ]
  },
  {
   "cell_type": "markdown",
   "metadata": {},
   "source": [
    "Les deux axes LD1 (axe discriminant principal) et LD2 semblent offrir une bonne séparation entre les deux classes.\n",
    "Les points en bleu et en rouge (probablement représentant différentes classes économiques) montrent un chevauchement modéré, mais LD1 semble discriminer davantage les classes."
   ]
  },
  {
   "cell_type": "markdown",
   "metadata": {},
   "source": [
    "les points de différentes classes se chevauchent, cela indique que les variables explicatives ne suffisent pas pour une discrimination claire."
   ]
  },
  {
   "cell_type": "markdown",
   "metadata": {},
   "source": [
    "### Application de l’AFD avec scikit-learn"
   ]
  },
  {
   "cell_type": "code",
   "execution_count": 17,
   "metadata": {},
   "outputs": [],
   "source": [
    "from sklearn.discriminant_analysis import LinearDiscriminantAnalysis\n",
    "lda = LinearDiscriminantAnalysis()\n",
    "X_lda = lda.fit_transform(X, y)"
   ]
  },
  {
   "cell_type": "code",
   "execution_count": 18,
   "metadata": {},
   "outputs": [
    {
     "data": {
      "text/plain": [
       "array([0.9605, 0.0395])"
      ]
     },
     "execution_count": 18,
     "metadata": {},
     "output_type": "execute_result"
    }
   ],
   "source": [
    "#Variance expliquée par les axes\n",
    "lda.explained_variance_ratio_"
   ]
  },
  {
   "cell_type": "markdown",
   "metadata": {},
   "source": [
    "#### Visualisation des données projetées"
   ]
  },
  {
   "cell_type": "code",
   "execution_count": 19,
   "metadata": {},
   "outputs": [
    {
     "data": {
      "image/png": "[encoded data removed]",
      "text/plain": [
       "<Figure size 640x480 with 1 Axes>"
      ]
     },
     "metadata": {},
     "output_type": "display_data"
    }
   ],
   "source": [
    "plt.xlabel('LD1')\n",
    "plt.ylabel('LD2')\n",
    "plt.scatter(\n",
    "    X_lda[:,0],\n",
    "    X_lda[:,1],\n",
    "    c=y,\n",
    "    cmap='rainbow',\n",
    "    alpha=0.7,\n",
    "    edgecolors='b'\n",
    ")\n",
    "plt.show()"
   ]
  },
  {
   "cell_type": "markdown",
   "metadata": {},
   "source": [
    "Sur cette visualisation, la séparation entre les deux groupes (probablement les classes économiques \"Emerging\" et \"Developing\") est plus nette le long de l'axe LD1. Cela signifie que l'axe LD1 capte désormais les informations les plus discriminantes.\n",
    "Les points bleus et rouges (classes distinctes) montrent moins de chevauchement par rapport au graphique précédent, ce qui témoigne d'une meilleure capacité discriminante après transformation.\n",
    "\n"
   ]
  },
  {
   "cell_type": "markdown",
   "metadata": {},
   "source": [
    "* Les classes (différentes couleurs) sont désormais mieux séparées dans cet espace discriminant, surtout le long de LD1.\n",
    "* Les points de la classe à droite (en cyan) sont clairement distincts des points des autres classes.\n",
    "* Le graphique montre que les groupes peuvent être rangés dans des zones spécifiques de cet espace.\n",
    "* Cela indique que l'AFD a permis d'identifier les directions où les groupes se distinguent le mieux."
   ]
  }
 ],
 "metadata": {
  "kernelspec": {
   "display_name": "Python 3",
   "language": "python",
   "name": "python3"
  },
  "language_info": {
   "codemirror_mode": {
    "name": "ipython",
    "version": 3
   },
   "file_extension": ".py",
   "mimetype": "text/x-python",
   "name": "python",
   "nbconvert_exporter": "python",
   "pygments_lexer": "ipython3",
   "version": "3.12.6"
  }
 },
 "nbformat": 4,
 "nbformat_minor": 2
}
